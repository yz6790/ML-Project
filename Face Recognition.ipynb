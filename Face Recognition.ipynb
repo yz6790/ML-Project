{
 "cells": [
  {
   "cell_type": "code",
   "execution_count": 21,
   "metadata": {},
   "outputs": [],
   "source": [
    "\n",
    "from keras.models import Sequential\n",
    "from keras.layers import Conv2D, ZeroPadding2D, Activation, Input, concatenate\n",
    "from keras.models import Model\n",
    "from keras.layers import BatchNormalization\n",
    "from keras.layers.pooling import MaxPooling2D, AveragePooling2D\n",
    "from keras.layers.merge import Concatenate\n",
    "from keras.layers.core import Lambda, Flatten, Dense\n",
    "from keras.initializers import glorot_uniform\n",
    "from keras.layers import Layer\n",
    "from keras import backend as K\n",
    "import time\n",
    "import cv2\n",
    "import os\n",
    "import numpy as np\n",
    "from numpy import genfromtxt\n",
    "import pandas as pd\n",
    " \n",
    "import tensorflow.compat.v1 as tf\n",
    "tf.disable_v2_behavior()\n",
    " \n",
    "import fr_utils\n",
    "from inception_blocks_v2 import *\n",
    "\n",
    "import sys\n",
    "np.set_printoptions(threshold=sys.maxsize) \n",
    "\n",
    "FRmodel = faceRecoModel(input_shape=(96, 96, 3))\n"
   ]
  },
  {
   "cell_type": "code",
   "execution_count": 22,
   "metadata": {},
   "outputs": [
    {
     "name": "stdout",
     "output_type": "stream",
     "text": [
      "Total Params: 3743280\n"
     ]
    }
   ],
   "source": [
    "print(\"Total Params:\", FRmodel.count_params())"
   ]
  },
  {
   "cell_type": "code",
   "execution_count": 40,
   "metadata": {},
   "outputs": [],
   "source": [
    "\n",
    "\n",
    "def triplet_loss(y_true, y_pred, alpha = 0.2):\n",
    "\n",
    "    \n",
    "    anchor, positive, negative = y_pred[0], y_pred[1], y_pred[2]\n",
    "    \n",
    "    #第一步：计算\"anchor\" 与 \"positive\"之间编码的距离，这里需要使用axis=-1\n",
    "    pos_dist = tf.reduce_sum(tf.square(tf.subtract(anchor,positive)),axis=-1)\n",
    "    \n",
    "    \n",
    "    #第二步：计算\"anchor\" 与 \"negative\"之间编码的距离，这里需要使用axis=-1\n",
    "    neg_dist = tf.reduce_sum(tf.square(tf.subtract(anchor,negative)),axis=-1)\n",
    "    \n",
    "    #第三步：减去之前的两个距离，然后加上alpha\n",
    "    basic_loss = tf.add(tf.subtract(pos_dist,neg_dist),alpha)\n",
    "    \n",
    "    \n",
    "    #通过取带零的最大值和对训练样本的求和来计算整个公式\n",
    "    loss = tf.reduce_sum(tf.maximum(basic_loss,0))\n",
    "    \n",
    "    return loss\n"
   ]
  },
  {
   "cell_type": "code",
   "execution_count": 41,
   "metadata": {},
   "outputs": [
    {
     "name": "stdout",
     "output_type": "stream",
     "text": [
      "loss = 528.1426\n"
     ]
    }
   ],
   "source": [
    "with tf.compat.v1.Session() as test:\n",
    "    tf.compat.v1.set_random_seed(1)\n",
    "    y_true = (None, None, None)\n",
    "    y_pred = (tf.random.normal([3, 128], mean=6, stddev=0.1, seed = 1),\n",
    "              tf.random.normal([3, 128], mean=1, stddev=1, seed = 1),\n",
    "              tf.random.normal([3, 128], mean=3, stddev=4, seed = 1))\n",
    "    loss = triplet_loss(y_true, y_pred)\n",
    "    \n",
    "    print(\"loss = \" + str(loss.eval()))"
   ]
  },
  {
   "cell_type": "code",
   "execution_count": 61,
   "metadata": {},
   "outputs": [],
   "source": [
    "FRmodel.compile(optimizer = 'adam', loss = triplet_loss, metrics = ['accuracy'])\n",
    "fr_utils.load_weights_from_FaceNet(FRmodel)"
   ]
  },
  {
   "cell_type": "code",
   "execution_count": 129,
   "metadata": {},
   "outputs": [],
   "source": [
    "database = {}\n",
    "from PIL import Image\n",
    "for filename in os.listdir(r\"./images\"):\n",
    "    img = Image.open(\"images/\" + filename)\n",
    "    img = img.resize((96,96),Image.ANTIALIAS)\n",
    "    img.save(\"images/\"+filename)\n",
    "database[\"0002\"]=fr_utils.img_to_encoding(\"images/00002_940422_fa.png\", FRmodel)\n",
    "database[\"0003\"]=fr_utils.img_to_encoding(\"images/00003_931230_fa_a.png\", FRmodel)"
   ]
  },
  {
   "cell_type": "code",
   "execution_count": 132,
   "metadata": {},
   "outputs": [],
   "source": [
    "# GRADED FUNCTION: who_is_it\n",
    "\n",
    "def who_is_it(image_path, database, model):\n",
    "    \"\"\"\n",
    "    Implements face recognition for the office by finding who is the person on the image_path image.\n",
    "    \n",
    "    Arguments:\n",
    "    image_path -- path to an image\n",
    "    database -- database containing image encodings along with the name of the person on the image\n",
    "    model -- your Inception model instance in Keras\n",
    "    \n",
    "    Returns:\n",
    "    min_dist -- the minimum distance between image_path encoding and the encodings from the database\n",
    "    identity -- string, the name prediction for the person on image_path\n",
    "    \"\"\"\n",
    "    \n",
    "    encoding = fr_utils.img_to_encoding(image_path, model)\n",
    "    \n",
    " \n",
    "    min_dist = 100\n",
    "\n",
    "    for name, db_enc in database.items():\n",
    "\n",
    "        dist = np.linalg.norm(db_enc - encoding)\n",
    "\n",
    "        if dist < min_dist:\n",
    "            min_dist = dist\n",
    "            identity = name\n",
    "    \n",
    "    if min_dist > 0.7:\n",
    "        print(\"Not in the database.\")\n",
    "    else:\n",
    "        print (image_path + \"it's \" + str(identity) + \", the distance is \" + str(min_dist))\n",
    "        \n",
    "    return min_dist, identity"
   ]
  },
  {
   "cell_type": "code",
   "execution_count": 133,
   "metadata": {},
   "outputs": [
    {
     "name": "stdout",
     "output_type": "stream",
     "text": [
      "images/00003_931230_fb_a.pngit's 0003, the distance is 0.5148776\n",
      "images/00002_940928_fb.pngit's 0003, the distance is 0.6417244\n",
      "images/00003_931230_fa_a.pngit's 0003, the distance is 0.0\n",
      "images/00002_940928_rc.pngit's 0002, the distance is 0.60909384\n",
      "images/00002_940422_fa.pngit's 0002, the distance is 0.0\n",
      "Not in the database.\n",
      "images/00003_930831_fb_a.pngit's 0002, the distance is 0.6862877\n",
      "images/00002_940128_fb.pngit's 0002, the distance is 0.39083803\n",
      "images/00002_930831_fa.pngit's 0002, the distance is 0.6686023\n",
      "images/00002_940128_fa.pngit's 0002, the distance is 0.5698735\n",
      "images/00002_930831_fb.pngit's 0002, the distance is 0.67760354\n"
     ]
    }
   ],
   "source": [
    "for filename in os.listdir(r\"./images\"):\n",
    "    who_is_it(\"images/\"+filename, database, FRmodel)"
   ]
  },
  {
   "cell_type": "code",
   "execution_count": null,
   "metadata": {},
   "outputs": [],
   "source": []
  }
 ],
 "metadata": {
  "coursera": {
   "course_slug": "convolutional-neural-networks",
   "graded_item_id": "IaknP",
   "launcher_item_id": "5UMr4"
  },
  "kernelspec": {
   "display_name": "Python 3 (ipykernel)",
   "language": "python",
   "name": "python3"
  },
  "language_info": {
   "codemirror_mode": {
    "name": "ipython",
    "version": 3
   },
   "file_extension": ".py",
   "mimetype": "text/x-python",
   "name": "python",
   "nbconvert_exporter": "python",
   "pygments_lexer": "ipython3",
   "version": "3.9.7"
  }
 },
 "nbformat": 4,
 "nbformat_minor": 4
}
